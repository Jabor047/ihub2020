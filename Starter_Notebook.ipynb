{
 "cells": [
  {
   "cell_type": "markdown",
   "metadata": {},
   "source": [
    "# Starter Notebook\n",
    "\n",
    "The goal of this notebook is to provide a brief introduction to the challenge and the data associated with it. It won't go into detail on a solution approach since this is a challenge which may be approached in a number of ways."
   ]
  },
  {
   "cell_type": "code",
   "execution_count": 1,
   "metadata": {},
   "outputs": [],
   "source": [
    "import pandas as pd\n",
    "import geopandas as gpd # For loading the map of road segments"
   ]
  },
  {
   "cell_type": "markdown",
   "metadata": {},
   "source": [
    "# The Challenge\n",
    "\n",
    "The main dataset for this challenge (in Train.csv) is a record of crashes within Nairobi over 2018-19. Each crash has an associated datetime and location. Let's load the data and take a look."
   ]
  },
  {
   "cell_type": "code",
   "execution_count": 15,
   "metadata": {},
   "outputs": [
    {
     "name": "stdout",
     "output_type": "stream",
     "text": [
      "(6318, 4)\n"
     ]
    },
    {
     "data": {
      "text/html": [
       "<div>\n",
       "<style scoped>\n",
       "    .dataframe tbody tr th:only-of-type {\n",
       "        vertical-align: middle;\n",
       "    }\n",
       "\n",
       "    .dataframe tbody tr th {\n",
       "        vertical-align: top;\n",
       "    }\n",
       "\n",
       "    .dataframe thead th {\n",
       "        text-align: right;\n",
       "    }\n",
       "</style>\n",
       "<table border=\"1\" class=\"dataframe\">\n",
       "  <thead>\n",
       "    <tr style=\"text-align: right;\">\n",
       "      <th></th>\n",
       "      <th>uid</th>\n",
       "      <th>datetime</th>\n",
       "      <th>latitude</th>\n",
       "      <th>longitude</th>\n",
       "    </tr>\n",
       "  </thead>\n",
       "  <tbody>\n",
       "    <tr>\n",
       "      <th>0</th>\n",
       "      <td>1</td>\n",
       "      <td>2018-01-01 00:25:46</td>\n",
       "      <td>-1.188850</td>\n",
       "      <td>36.931382</td>\n",
       "    </tr>\n",
       "    <tr>\n",
       "      <th>1</th>\n",
       "      <td>2</td>\n",
       "      <td>2018-01-01 02:02:39</td>\n",
       "      <td>-0.662939</td>\n",
       "      <td>37.208730</td>\n",
       "    </tr>\n",
       "    <tr>\n",
       "      <th>2</th>\n",
       "      <td>3</td>\n",
       "      <td>2018-01-01 02:31:49</td>\n",
       "      <td>-0.662939</td>\n",
       "      <td>37.208730</td>\n",
       "    </tr>\n",
       "    <tr>\n",
       "      <th>3</th>\n",
       "      <td>4</td>\n",
       "      <td>2018-01-01 03:04:01</td>\n",
       "      <td>-1.288087</td>\n",
       "      <td>36.826583</td>\n",
       "    </tr>\n",
       "    <tr>\n",
       "      <th>4</th>\n",
       "      <td>5</td>\n",
       "      <td>2018-01-01 03:58:49</td>\n",
       "      <td>-1.188850</td>\n",
       "      <td>36.931382</td>\n",
       "    </tr>\n",
       "  </tbody>\n",
       "</table>\n",
       "</div>"
      ],
      "text/plain": [
       "   uid            datetime  latitude  longitude\n",
       "0    1 2018-01-01 00:25:46 -1.188850  36.931382\n",
       "1    2 2018-01-01 02:02:39 -0.662939  37.208730\n",
       "2    3 2018-01-01 02:31:49 -0.662939  37.208730\n",
       "3    4 2018-01-01 03:04:01 -1.288087  36.826583\n",
       "4    5 2018-01-01 03:58:49 -1.188850  36.931382"
      ]
     },
     "execution_count": 15,
     "metadata": {},
     "output_type": "execute_result"
    }
   ],
   "source": [
    "# Load the data\n",
    "df = pd.read_csv('Train.csv', parse_dates=['datetime'])\n",
    "print(df.shape)\n",
    "df = df.sort_values(by='datetime')\n",
    "df.head()"
   ]
  },
  {
   "cell_type": "code",
   "execution_count": 16,
   "metadata": {},
   "outputs": [
    {
     "data": {
      "text/html": [
       "<div>\n",
       "<style scoped>\n",
       "    .dataframe tbody tr th:only-of-type {\n",
       "        vertical-align: middle;\n",
       "    }\n",
       "\n",
       "    .dataframe tbody tr th {\n",
       "        vertical-align: top;\n",
       "    }\n",
       "\n",
       "    .dataframe thead th {\n",
       "        text-align: right;\n",
       "    }\n",
       "</style>\n",
       "<table border=\"1\" class=\"dataframe\">\n",
       "  <thead>\n",
       "    <tr style=\"text-align: right;\">\n",
       "      <th></th>\n",
       "      <th>uid</th>\n",
       "      <th>datetime</th>\n",
       "      <th>latitude</th>\n",
       "      <th>longitude</th>\n",
       "    </tr>\n",
       "  </thead>\n",
       "  <tbody>\n",
       "    <tr>\n",
       "      <th>6313</th>\n",
       "      <td>6314</td>\n",
       "      <td>2019-06-29 18:52:44</td>\n",
       "      <td>-1.262271</td>\n",
       "      <td>36.726540</td>\n",
       "    </tr>\n",
       "    <tr>\n",
       "      <th>6314</th>\n",
       "      <td>6315</td>\n",
       "      <td>2019-06-30 09:57:44</td>\n",
       "      <td>-1.279468</td>\n",
       "      <td>36.790449</td>\n",
       "    </tr>\n",
       "    <tr>\n",
       "      <th>6315</th>\n",
       "      <td>6316</td>\n",
       "      <td>2019-06-30 12:02:14</td>\n",
       "      <td>-1.322109</td>\n",
       "      <td>36.825248</td>\n",
       "    </tr>\n",
       "    <tr>\n",
       "      <th>6316</th>\n",
       "      <td>6317</td>\n",
       "      <td>2019-06-30 16:59:14</td>\n",
       "      <td>-1.278589</td>\n",
       "      <td>36.816518</td>\n",
       "    </tr>\n",
       "    <tr>\n",
       "      <th>6317</th>\n",
       "      <td>6318</td>\n",
       "      <td>2019-06-30 20:06:14</td>\n",
       "      <td>-1.211500</td>\n",
       "      <td>36.907635</td>\n",
       "    </tr>\n",
       "  </tbody>\n",
       "</table>\n",
       "</div>"
      ],
      "text/plain": [
       "       uid            datetime  latitude  longitude\n",
       "6313  6314 2019-06-29 18:52:44 -1.262271  36.726540\n",
       "6314  6315 2019-06-30 09:57:44 -1.279468  36.790449\n",
       "6315  6316 2019-06-30 12:02:14 -1.322109  36.825248\n",
       "6316  6317 2019-06-30 16:59:14 -1.278589  36.816518\n",
       "6317  6318 2019-06-30 20:06:14 -1.211500  36.907635"
      ]
     },
     "execution_count": 16,
     "metadata": {},
     "output_type": "execute_result"
    }
   ],
   "source": [
    "df.tail()"
   ]
  },
  {
   "cell_type": "code",
   "execution_count": 4,
   "metadata": {},
   "outputs": [
    {
     "data": {
      "text/plain": [
       "<AxesSubplot:title={'center':'Crash Locations'}, xlabel='longitude', ylabel='latitude'>"
      ]
     },
     "execution_count": 4,
     "metadata": {},
     "output_type": "execute_result"
    },
    {
     "data": {
      "image/png": "[encoded data removed]",
      "text/plain": [
       "<Figure size 864x864 with 1 Axes>"
      ]
     },
     "metadata": {
      "needs_background": "light"
     },
     "output_type": "display_data"
    }
   ],
   "source": [
    "# Plot the crashes\n",
    "df.plot(x='longitude', y='latitude', kind='scatter', figsize=(12, 12), alpha=0.3, title='Crash Locations')"
   ]
  },
  {
   "cell_type": "markdown",
   "metadata": {},
   "source": [
    "Rather than trying to predict accident locations or the number of accidents in a given timeframe, we are instead asked to come up with an ambulance deployment schedule that will minimise distance travelled. \n",
    "\n",
    "This is of course a simplification of the problem, but by solving this you will hopefully develop strategies that can be used going forward."
   ]
  },
  {
   "cell_type": "code",
   "execution_count": 6,
   "metadata": {},
   "outputs": [
    {
     "data": {
      "text/html": [
       "<div>\n",
       "<style scoped>\n",
       "    .dataframe tbody tr th:only-of-type {\n",
       "        vertical-align: middle;\n",
       "    }\n",
       "\n",
       "    .dataframe tbody tr th {\n",
       "        vertical-align: top;\n",
       "    }\n",
       "\n",
       "    .dataframe thead th {\n",
       "        text-align: right;\n",
       "    }\n",
       "</style>\n",
       "<table border=\"1\" class=\"dataframe\">\n",
       "  <thead>\n",
       "    <tr style=\"text-align: right;\">\n",
       "      <th></th>\n",
       "      <th>date</th>\n",
       "      <th>A0_Latitude</th>\n",
       "      <th>A0_Longitude</th>\n",
       "      <th>A1_Latitude</th>\n",
       "      <th>A1_Longitude</th>\n",
       "      <th>A2_Latitude</th>\n",
       "      <th>A2_Longitude</th>\n",
       "      <th>A3_Latitude</th>\n",
       "      <th>A3_Longitude</th>\n",
       "      <th>A4_Latitude</th>\n",
       "      <th>A4_Longitude</th>\n",
       "      <th>A5_Latitude</th>\n",
       "      <th>A5_Longitude</th>\n",
       "    </tr>\n",
       "  </thead>\n",
       "  <tbody>\n",
       "    <tr>\n",
       "      <th>0</th>\n",
       "      <td>2019-07-01 00:00:00</td>\n",
       "      <td>0</td>\n",
       "      <td>0</td>\n",
       "      <td>0</td>\n",
       "      <td>0</td>\n",
       "      <td>0</td>\n",
       "      <td>0</td>\n",
       "      <td>0</td>\n",
       "      <td>0</td>\n",
       "      <td>0</td>\n",
       "      <td>0</td>\n",
       "      <td>0</td>\n",
       "      <td>0</td>\n",
       "    </tr>\n",
       "    <tr>\n",
       "      <th>1</th>\n",
       "      <td>2019-07-01 03:00:00</td>\n",
       "      <td>0</td>\n",
       "      <td>0</td>\n",
       "      <td>0</td>\n",
       "      <td>0</td>\n",
       "      <td>0</td>\n",
       "      <td>0</td>\n",
       "      <td>0</td>\n",
       "      <td>0</td>\n",
       "      <td>0</td>\n",
       "      <td>0</td>\n",
       "      <td>0</td>\n",
       "      <td>0</td>\n",
       "    </tr>\n",
       "    <tr>\n",
       "      <th>2</th>\n",
       "      <td>2019-07-01 06:00:00</td>\n",
       "      <td>0</td>\n",
       "      <td>0</td>\n",
       "      <td>0</td>\n",
       "      <td>0</td>\n",
       "      <td>0</td>\n",
       "      <td>0</td>\n",
       "      <td>0</td>\n",
       "      <td>0</td>\n",
       "      <td>0</td>\n",
       "      <td>0</td>\n",
       "      <td>0</td>\n",
       "      <td>0</td>\n",
       "    </tr>\n",
       "    <tr>\n",
       "      <th>3</th>\n",
       "      <td>2019-07-01 09:00:00</td>\n",
       "      <td>0</td>\n",
       "      <td>0</td>\n",
       "      <td>0</td>\n",
       "      <td>0</td>\n",
       "      <td>0</td>\n",
       "      <td>0</td>\n",
       "      <td>0</td>\n",
       "      <td>0</td>\n",
       "      <td>0</td>\n",
       "      <td>0</td>\n",
       "      <td>0</td>\n",
       "      <td>0</td>\n",
       "    </tr>\n",
       "    <tr>\n",
       "      <th>4</th>\n",
       "      <td>2019-07-01 12:00:00</td>\n",
       "      <td>0</td>\n",
       "      <td>0</td>\n",
       "      <td>0</td>\n",
       "      <td>0</td>\n",
       "      <td>0</td>\n",
       "      <td>0</td>\n",
       "      <td>0</td>\n",
       "      <td>0</td>\n",
       "      <td>0</td>\n",
       "      <td>0</td>\n",
       "      <td>0</td>\n",
       "      <td>0</td>\n",
       "    </tr>\n",
       "  </tbody>\n",
       "</table>\n",
       "</div>"
      ],
      "text/plain": [
       "                 date  A0_Latitude  A0_Longitude  A1_Latitude  A1_Longitude  \\\n",
       "0 2019-07-01 00:00:00            0             0            0             0   \n",
       "1 2019-07-01 03:00:00            0             0            0             0   \n",
       "2 2019-07-01 06:00:00            0             0            0             0   \n",
       "3 2019-07-01 09:00:00            0             0            0             0   \n",
       "4 2019-07-01 12:00:00            0             0            0             0   \n",
       "\n",
       "   A2_Latitude  A2_Longitude  A3_Latitude  A3_Longitude  A4_Latitude  \\\n",
       "0            0             0            0             0            0   \n",
       "1            0             0            0             0            0   \n",
       "2            0             0            0             0            0   \n",
       "3            0             0            0             0            0   \n",
       "4            0             0            0             0            0   \n",
       "\n",
       "   A4_Longitude  A5_Latitude  A5_Longitude  \n",
       "0             0            0             0  \n",
       "1             0            0             0  \n",
       "2             0            0             0  \n",
       "3             0            0             0  \n",
       "4             0            0             0  "
      ]
     },
     "execution_count": 6,
     "metadata": {},
     "output_type": "execute_result"
    }
   ],
   "source": [
    "# View the submission format\n",
    "ss = pd.read_csv('SampleSubmission.csv', parse_dates=['date'])\n",
    "ss.head()"
   ]
  },
  {
   "cell_type": "markdown",
   "metadata": {},
   "source": [
    "# Scoring\n",
    "\n",
    "You can re-create the scoring process by creating your own test set and using the following function:"
   ]
  },
  {
   "cell_type": "code",
   "execution_count": 7,
   "metadata": {},
   "outputs": [],
   "source": [
    "def score(sub, ref):\n",
    "    total_distance = 0\n",
    "    for date, c_lat, c_lon in ref[['datetime', 'latitude', 'longitude']].values:\n",
    "        row = sub.loc[sub.date < date].tail(1) # Prior to Oct 2 this was incorrectly .head(1)\n",
    "        dists = []\n",
    "        for a in range(6):\n",
    "            dist = ((c_lat - row[f'A{a}_Latitude'].values[0])**2+(c_lon - row[f'A{a}_Longitude'].values[0])**2)**0.5 \n",
    "            dists.append(dist)\n",
    "        total_distance += min(dists)\n",
    "    return total_distance\n"
   ]
  },
  {
   "cell_type": "code",
   "execution_count": 8,
   "metadata": {},
   "outputs": [
    {
     "data": {
      "text/plain": [
       "70886.38526378157"
      ]
     },
     "execution_count": 8,
     "metadata": {},
     "output_type": "execute_result"
    }
   ],
   "source": [
    "# Example:\n",
    "\n",
    "# Test set\n",
    "reference = df.loc[df.datetime > '2019-01-01'] # Using 2019 as our test set\n",
    "\n",
    "# Date rane covering test set\n",
    "dates = pd.date_range('2019-01-01', '2020-01-01', freq='3h')\n",
    "\n",
    "# Create submission dataframe\n",
    "sub = pd.DataFrame({\n",
    "    'date':dates\n",
    "})\n",
    "for ambulance in range(6):\n",
    "    sub['A'+str(ambulance)+'_Latitude'] = 0\n",
    "    sub['A'+str(ambulance)+'_Longitude'] = 0\n",
    "\n",
    "# Place an ambulance in the center of the city:\n",
    "sub['A'+str(ambulance)+'_Latitude'] = 36.82\n",
    "sub['A'+str(ambulance)+'_Longitude'] = -1.3\n",
    "\n",
    "\n",
    "\n",
    "score(sub, reference)"
   ]
  },
  {
   "cell_type": "markdown",
   "metadata": {},
   "source": [
    "This scoring function can be used for local testing without needing to submit on Zindi. Lower is better. Experiment with specifying set locations for all 6 ambulances, and see how low you can get your score."
   ]
  },
  {
   "cell_type": "markdown",
   "metadata": {},
   "source": [
    "# Weather Data\n",
    "\n",
    "Some weatehr variables form the GFS dataset are provided, covering the greater Nairobi area. Let's take a quick look at the dataset before moving on:"
   ]
  },
  {
   "cell_type": "code",
   "execution_count": 9,
   "metadata": {},
   "outputs": [
    {
     "data": {
      "text/html": [
       "<div>\n",
       "<style scoped>\n",
       "    .dataframe tbody tr th:only-of-type {\n",
       "        vertical-align: middle;\n",
       "    }\n",
       "\n",
       "    .dataframe tbody tr th {\n",
       "        vertical-align: top;\n",
       "    }\n",
       "\n",
       "    .dataframe thead th {\n",
       "        text-align: right;\n",
       "    }\n",
       "</style>\n",
       "<table border=\"1\" class=\"dataframe\">\n",
       "  <thead>\n",
       "    <tr style=\"text-align: right;\">\n",
       "      <th></th>\n",
       "      <th>Date</th>\n",
       "      <th>precipitable_water_entire_atmosphere</th>\n",
       "      <th>relative_humidity_2m_above_ground</th>\n",
       "      <th>specific_humidity_2m_above_ground</th>\n",
       "      <th>temperature_2m_above_ground</th>\n",
       "      <th>u_component_of_wind_10m_above_ground</th>\n",
       "      <th>v_component_of_wind_10m_above_ground</th>\n",
       "    </tr>\n",
       "  </thead>\n",
       "  <tbody>\n",
       "    <tr>\n",
       "      <th>0</th>\n",
       "      <td>2018-01-01</td>\n",
       "      <td>24.100000</td>\n",
       "      <td>72.700005</td>\n",
       "      <td>0.009560</td>\n",
       "      <td>15.161493</td>\n",
       "      <td>-0.012186</td>\n",
       "      <td>-0.933914</td>\n",
       "    </tr>\n",
       "    <tr>\n",
       "      <th>1</th>\n",
       "      <td>2018-01-02</td>\n",
       "      <td>27.362288</td>\n",
       "      <td>74.900002</td>\n",
       "      <td>0.010463</td>\n",
       "      <td>16.047998</td>\n",
       "      <td>0.314543</td>\n",
       "      <td>-0.485459</td>\n",
       "    </tr>\n",
       "    <tr>\n",
       "      <th>2</th>\n",
       "      <td>2018-01-03</td>\n",
       "      <td>30.246618</td>\n",
       "      <td>86.599998</td>\n",
       "      <td>0.011930</td>\n",
       "      <td>15.838525</td>\n",
       "      <td>-0.282732</td>\n",
       "      <td>-0.653965</td>\n",
       "    </tr>\n",
       "    <tr>\n",
       "      <th>3</th>\n",
       "      <td>2018-01-04</td>\n",
       "      <td>33.010689</td>\n",
       "      <td>90.900002</td>\n",
       "      <td>0.012780</td>\n",
       "      <td>16.169244</td>\n",
       "      <td>0.211572</td>\n",
       "      <td>0.908123</td>\n",
       "    </tr>\n",
       "    <tr>\n",
       "      <th>4</th>\n",
       "      <td>2018-01-05</td>\n",
       "      <td>27.250372</td>\n",
       "      <td>82.413353</td>\n",
       "      <td>0.011392</td>\n",
       "      <td>15.923456</td>\n",
       "      <td>1.047275</td>\n",
       "      <td>-0.037742</td>\n",
       "    </tr>\n",
       "  </tbody>\n",
       "</table>\n",
       "</div>"
      ],
      "text/plain": [
       "        Date  precipitable_water_entire_atmosphere  \\\n",
       "0 2018-01-01                             24.100000   \n",
       "1 2018-01-02                             27.362288   \n",
       "2 2018-01-03                             30.246618   \n",
       "3 2018-01-04                             33.010689   \n",
       "4 2018-01-05                             27.250372   \n",
       "\n",
       "   relative_humidity_2m_above_ground  specific_humidity_2m_above_ground  \\\n",
       "0                          72.700005                           0.009560   \n",
       "1                          74.900002                           0.010463   \n",
       "2                          86.599998                           0.011930   \n",
       "3                          90.900002                           0.012780   \n",
       "4                          82.413353                           0.011392   \n",
       "\n",
       "   temperature_2m_above_ground  u_component_of_wind_10m_above_ground  \\\n",
       "0                    15.161493                             -0.012186   \n",
       "1                    16.047998                              0.314543   \n",
       "2                    15.838525                             -0.282732   \n",
       "3                    16.169244                              0.211572   \n",
       "4                    15.923456                              1.047275   \n",
       "\n",
       "   v_component_of_wind_10m_above_ground  \n",
       "0                             -0.933914  \n",
       "1                             -0.485459  \n",
       "2                             -0.653965  \n",
       "3                              0.908123  \n",
       "4                             -0.037742  "
      ]
     },
     "execution_count": 9,
     "metadata": {},
     "output_type": "execute_result"
    }
   ],
   "source": [
    "weather = pd.read_csv('Weather_Nairobi_Daily_GFS.csv', parse_dates=['Date'])\n",
    "weather.head()"
   ]
  },
  {
   "cell_type": "code",
   "execution_count": 10,
   "metadata": {},
   "outputs": [
    {
     "data": {
      "text/plain": [
       "<AxesSubplot:xlabel='Date'>"
      ]
     },
     "execution_count": 10,
     "metadata": {},
     "output_type": "execute_result"
    },
    {
     "data": {
      "image/png": "[encoded data removed]",
      "text/plain": [
       "<Figure size 432x288 with 1 Axes>"
      ]
     },
     "metadata": {
      "needs_background": "light"
     },
     "output_type": "display_data"
    }
   ],
   "source": [
    "# Interestingly, Kenya has two rainy seasons per year!\n",
    "weather.set_index('Date')['precipitable_water_entire_atmosphere'].rolling(10).mean().plot()"
   ]
  },
  {
   "cell_type": "markdown",
   "metadata": {},
   "source": [
    "# Road Survey Data\n",
    "\n",
    "The road survey data contains many different measurements for each surveyed road segment. Unfortunately we can't access the raw data, and must work 'in the dark' in terms of what the column headings mean. However, the naming convention does at least show which columns may be related.\n",
    "\n",
    "To locate the road segments geographically, a geojson file is provided. Here is an example of merging the survey data with the segments and visualizing the result."
   ]
  },
  {
   "cell_type": "code",
   "execution_count": 11,
   "metadata": {},
   "outputs": [
    {
     "data": {
      "text/html": [
       "<div>\n",
       "<style scoped>\n",
       "    .dataframe tbody tr th:only-of-type {\n",
       "        vertical-align: middle;\n",
       "    }\n",
       "\n",
       "    .dataframe tbody tr th {\n",
       "        vertical-align: top;\n",
       "    }\n",
       "\n",
       "    .dataframe thead th {\n",
       "        text-align: right;\n",
       "    }\n",
       "</style>\n",
       "<table border=\"1\" class=\"dataframe\">\n",
       "  <thead>\n",
       "    <tr style=\"text-align: right;\">\n",
       "      <th></th>\n",
       "      <th>segment_id</th>\n",
       "      <th>side</th>\n",
       "      <th>25_48</th>\n",
       "      <th>79_76</th>\n",
       "      <th>79_65</th>\n",
       "      <th>79_39</th>\n",
       "      <th>28_78_50</th>\n",
       "      <th>55_90</th>\n",
       "      <th>26_76</th>\n",
       "      <th>92_30</th>\n",
       "      <th>...</th>\n",
       "      <th>80_97_61_65_11</th>\n",
       "      <th>80_97_61_65_12</th>\n",
       "      <th>80_97_61_65_15</th>\n",
       "      <th>80_97_61_65_16</th>\n",
       "      <th>80_97_61_39_0</th>\n",
       "      <th>80_97_61_39_10</th>\n",
       "      <th>80_97_61_39_11</th>\n",
       "      <th>80_97_61_39_12</th>\n",
       "      <th>80_97_61_39_15</th>\n",
       "      <th>80_97_61_39_16</th>\n",
       "    </tr>\n",
       "  </thead>\n",
       "  <tbody>\n",
       "    <tr>\n",
       "      <th>0</th>\n",
       "      <td>176_2</td>\n",
       "      <td>1</td>\n",
       "      <td>3</td>\n",
       "      <td>0</td>\n",
       "      <td>3</td>\n",
       "      <td>3</td>\n",
       "      <td>0.0</td>\n",
       "      <td>11</td>\n",
       "      <td>0</td>\n",
       "      <td>1</td>\n",
       "      <td>...</td>\n",
       "      <td>0.0</td>\n",
       "      <td>1.0</td>\n",
       "      <td>0.0</td>\n",
       "      <td>0.0</td>\n",
       "      <td>0.0</td>\n",
       "      <td>0.0</td>\n",
       "      <td>0.0</td>\n",
       "      <td>1.0</td>\n",
       "      <td>0.0</td>\n",
       "      <td>0.0</td>\n",
       "    </tr>\n",
       "    <tr>\n",
       "      <th>1</th>\n",
       "      <td>176_2</td>\n",
       "      <td>2</td>\n",
       "      <td>3</td>\n",
       "      <td>0</td>\n",
       "      <td>3</td>\n",
       "      <td>3</td>\n",
       "      <td>0.0</td>\n",
       "      <td>11</td>\n",
       "      <td>0</td>\n",
       "      <td>1</td>\n",
       "      <td>...</td>\n",
       "      <td>0.0</td>\n",
       "      <td>1.0</td>\n",
       "      <td>0.0</td>\n",
       "      <td>0.0</td>\n",
       "      <td>0.0</td>\n",
       "      <td>0.0</td>\n",
       "      <td>0.0</td>\n",
       "      <td>1.0</td>\n",
       "      <td>0.0</td>\n",
       "      <td>0.0</td>\n",
       "    </tr>\n",
       "    <tr>\n",
       "      <th>2</th>\n",
       "      <td>95_1</td>\n",
       "      <td>1</td>\n",
       "      <td>3</td>\n",
       "      <td>0</td>\n",
       "      <td>3</td>\n",
       "      <td>3</td>\n",
       "      <td>0.0</td>\n",
       "      <td>14</td>\n",
       "      <td>0</td>\n",
       "      <td>3</td>\n",
       "      <td>...</td>\n",
       "      <td>NaN</td>\n",
       "      <td>NaN</td>\n",
       "      <td>NaN</td>\n",
       "      <td>NaN</td>\n",
       "      <td>NaN</td>\n",
       "      <td>NaN</td>\n",
       "      <td>NaN</td>\n",
       "      <td>NaN</td>\n",
       "      <td>NaN</td>\n",
       "      <td>NaN</td>\n",
       "    </tr>\n",
       "    <tr>\n",
       "      <th>3</th>\n",
       "      <td>95_1</td>\n",
       "      <td>2</td>\n",
       "      <td>3</td>\n",
       "      <td>0</td>\n",
       "      <td>3</td>\n",
       "      <td>3</td>\n",
       "      <td>0.0</td>\n",
       "      <td>14</td>\n",
       "      <td>0</td>\n",
       "      <td>3</td>\n",
       "      <td>...</td>\n",
       "      <td>NaN</td>\n",
       "      <td>NaN</td>\n",
       "      <td>NaN</td>\n",
       "      <td>NaN</td>\n",
       "      <td>NaN</td>\n",
       "      <td>NaN</td>\n",
       "      <td>NaN</td>\n",
       "      <td>NaN</td>\n",
       "      <td>NaN</td>\n",
       "      <td>NaN</td>\n",
       "    </tr>\n",
       "    <tr>\n",
       "      <th>4</th>\n",
       "      <td>144_7</td>\n",
       "      <td>1</td>\n",
       "      <td>1</td>\n",
       "      <td>0</td>\n",
       "      <td>4</td>\n",
       "      <td>3</td>\n",
       "      <td>0.0</td>\n",
       "      <td>5</td>\n",
       "      <td>0</td>\n",
       "      <td>3</td>\n",
       "      <td>...</td>\n",
       "      <td>0.0</td>\n",
       "      <td>1.0</td>\n",
       "      <td>0.0</td>\n",
       "      <td>0.0</td>\n",
       "      <td>1.0</td>\n",
       "      <td>1.0</td>\n",
       "      <td>0.0</td>\n",
       "      <td>0.0</td>\n",
       "      <td>0.0</td>\n",
       "      <td>0.0</td>\n",
       "    </tr>\n",
       "  </tbody>\n",
       "</table>\n",
       "<p>5 rows × 228 columns</p>\n",
       "</div>"
      ],
      "text/plain": [
       "  segment_id  side  25_48  79_76  79_65  79_39  28_78_50  55_90  26_76  92_30  \\\n",
       "0      176_2     1      3      0      3      3       0.0     11      0      1   \n",
       "1      176_2     2      3      0      3      3       0.0     11      0      1   \n",
       "2       95_1     1      3      0      3      3       0.0     14      0      3   \n",
       "3       95_1     2      3      0      3      3       0.0     14      0      3   \n",
       "4      144_7     1      1      0      4      3       0.0      5      0      3   \n",
       "\n",
       "   ...  80_97_61_65_11  80_97_61_65_12  80_97_61_65_15  80_97_61_65_16  \\\n",
       "0  ...             0.0             1.0             0.0             0.0   \n",
       "1  ...             0.0             1.0             0.0             0.0   \n",
       "2  ...             NaN             NaN             NaN             NaN   \n",
       "3  ...             NaN             NaN             NaN             NaN   \n",
       "4  ...             0.0             1.0             0.0             0.0   \n",
       "\n",
       "   80_97_61_39_0  80_97_61_39_10  80_97_61_39_11  80_97_61_39_12  \\\n",
       "0            0.0             0.0             0.0             1.0   \n",
       "1            0.0             0.0             0.0             1.0   \n",
       "2            NaN             NaN             NaN             NaN   \n",
       "3            NaN             NaN             NaN             NaN   \n",
       "4            1.0             1.0             0.0             0.0   \n",
       "\n",
       "   80_97_61_39_15  80_97_61_39_16  \n",
       "0             0.0             0.0  \n",
       "1             0.0             0.0  \n",
       "2             NaN             NaN  \n",
       "3             NaN             NaN  \n",
       "4             0.0             0.0  \n",
       "\n",
       "[5 rows x 228 columns]"
      ]
     },
     "execution_count": 11,
     "metadata": {},
     "output_type": "execute_result"
    }
   ],
   "source": [
    "# Load the survey data\n",
    "road_surveys = pd.read_csv('Segment_info.csv')\n",
    "road_surveys.head()"
   ]
  },
  {
   "cell_type": "code",
   "execution_count": 12,
   "metadata": {},
   "outputs": [
    {
     "data": {
      "text/html": [
       "<div>\n",
       "<style scoped>\n",
       "    .dataframe tbody tr th:only-of-type {\n",
       "        vertical-align: middle;\n",
       "    }\n",
       "\n",
       "    .dataframe tbody tr th {\n",
       "        vertical-align: top;\n",
       "    }\n",
       "\n",
       "    .dataframe thead th {\n",
       "        text-align: right;\n",
       "    }\n",
       "</style>\n",
       "<table border=\"1\" class=\"dataframe\">\n",
       "  <thead>\n",
       "    <tr style=\"text-align: right;\">\n",
       "      <th></th>\n",
       "      <th>segment_id</th>\n",
       "      <th>road_name</th>\n",
       "      <th>geometry</th>\n",
       "    </tr>\n",
       "  </thead>\n",
       "  <tbody>\n",
       "    <tr>\n",
       "      <th>0</th>\n",
       "      <td>28_1</td>\n",
       "      <td>accra road-tertiary</td>\n",
       "      <td>LINESTRING (36.82603 -1.28447, 36.82605 -1.284...</td>\n",
       "    </tr>\n",
       "    <tr>\n",
       "      <th>1</th>\n",
       "      <td>137_1</td>\n",
       "      <td>accra road-tertiary</td>\n",
       "      <td>LINESTRING (36.82656 -1.28371, 36.82658 -1.283...</td>\n",
       "    </tr>\n",
       "    <tr>\n",
       "      <th>2</th>\n",
       "      <td>137_2</td>\n",
       "      <td>accra road-tertiary</td>\n",
       "      <td>LINESTRING (36.82711 -1.28289, 36.82713 -1.282...</td>\n",
       "    </tr>\n",
       "    <tr>\n",
       "      <th>3</th>\n",
       "      <td>1_1</td>\n",
       "      <td>airport north road-primary</td>\n",
       "      <td>LINESTRING (36.88646 -1.33284, 36.88649 -1.332...</td>\n",
       "    </tr>\n",
       "    <tr>\n",
       "      <th>4</th>\n",
       "      <td>1_2</td>\n",
       "      <td>airport north road-primary</td>\n",
       "      <td>LINESTRING (36.88726 -1.33226, 36.88729 -1.332...</td>\n",
       "    </tr>\n",
       "  </tbody>\n",
       "</table>\n",
       "</div>"
      ],
      "text/plain": [
       "  segment_id                   road_name  \\\n",
       "0       28_1         accra road-tertiary   \n",
       "1      137_1         accra road-tertiary   \n",
       "2      137_2         accra road-tertiary   \n",
       "3        1_1  airport north road-primary   \n",
       "4        1_2  airport north road-primary   \n",
       "\n",
       "                                            geometry  \n",
       "0  LINESTRING (36.82603 -1.28447, 36.82605 -1.284...  \n",
       "1  LINESTRING (36.82656 -1.28371, 36.82658 -1.283...  \n",
       "2  LINESTRING (36.82711 -1.28289, 36.82713 -1.282...  \n",
       "3  LINESTRING (36.88646 -1.33284, 36.88649 -1.332...  \n",
       "4  LINESTRING (36.88726 -1.33226, 36.88729 -1.332...  "
      ]
     },
     "execution_count": 12,
     "metadata": {},
     "output_type": "execute_result"
    }
   ],
   "source": [
    "# Load the map\n",
    "road_segment_locs = gpd.read_file('segments_geometry.geojson')\n",
    "road_segment_locs.head()"
   ]
  },
  {
   "cell_type": "code",
   "execution_count": 11,
   "metadata": {},
   "outputs": [
    {
     "data": {
      "text/plain": [
       "<matplotlib.axes._subplots.AxesSubplot at 0x7f306ddf0b50>"
      ]
     },
     "execution_count": 11,
     "metadata": {},
     "output_type": "execute_result"
    },
    {
     "data": {
      "image/png": "[encoded data removed]",
      "text/plain": [
       "<Figure size 432x288 with 1 Axes>"
      ]
     },
     "metadata": {
      "needs_background": "light"
     },
     "output_type": "display_data"
    }
   ],
   "source": [
    "# Because this is a geodataframe, we can plot it\n",
    "road_segment_locs.plot()"
   ]
  },
  {
   "cell_type": "code",
   "execution_count": 12,
   "metadata": {},
   "outputs": [
    {
     "data": {
      "text/plain": [
       "<matplotlib.axes._subplots.AxesSubplot at 0x7f3069a50a90>"
      ]
     },
     "execution_count": 12,
     "metadata": {},
     "output_type": "execute_result"
    },
    {
     "data": {
      "image/png": "[encoded data removed]",
      "text/plain": [
       "<Figure size 1440x576 with 1 Axes>"
      ]
     },
     "metadata": {
      "needs_background": "light"
     },
     "output_type": "display_data"
    }
   ],
   "source": [
    "# Let's merge the two and color by one of the survey columns\n",
    "segments_merged = pd.merge(road_segment_locs, road_surveys, on='segment_id', how='left')\n",
    "segments_merged.plot(column='55_90', figsize=(20, 8))"
   ]
  },
  {
   "cell_type": "markdown",
   "metadata": {},
   "source": [
    "This data will come in useful if you're trying to predict the number of crashes along a particular road, or within a specified region. "
   ]
  },
  {
   "cell_type": "markdown",
   "metadata": {},
   "source": [
    "# Adding Uber Data\n",
    "\n",
    "You can access speed data from https://movement.uber.com/explore/nairobi/speeds and clicking 'Download Data'. Here we'll load in the speeds from January 2019 and explore the data briefly."
   ]
  },
  {
   "cell_type": "code",
   "execution_count": 13,
   "metadata": {},
   "outputs": [
    {
     "data": {
      "text/html": [
       "<div>\n",
       "<style scoped>\n",
       "    .dataframe tbody tr th:only-of-type {\n",
       "        vertical-align: middle;\n",
       "    }\n",
       "\n",
       "    .dataframe tbody tr th {\n",
       "        vertical-align: top;\n",
       "    }\n",
       "\n",
       "    .dataframe thead th {\n",
       "        text-align: right;\n",
       "    }\n",
       "</style>\n",
       "<table border=\"1\" class=\"dataframe\">\n",
       "  <thead>\n",
       "    <tr style=\"text-align: right;\">\n",
       "      <th></th>\n",
       "      <th>year</th>\n",
       "      <th>month</th>\n",
       "      <th>day</th>\n",
       "      <th>hour</th>\n",
       "      <th>utc_timestamp</th>\n",
       "      <th>segment_id</th>\n",
       "      <th>start_junction_id</th>\n",
       "      <th>end_junction_id</th>\n",
       "      <th>osm_way_id</th>\n",
       "      <th>osm_start_node_id</th>\n",
       "      <th>osm_end_node_id</th>\n",
       "      <th>speed_kph_mean</th>\n",
       "      <th>speed_kph_stddev</th>\n",
       "    </tr>\n",
       "  </thead>\n",
       "  <tbody>\n",
       "    <tr>\n",
       "      <th>0</th>\n",
       "      <td>2019</td>\n",
       "      <td>1</td>\n",
       "      <td>21</td>\n",
       "      <td>18</td>\n",
       "      <td>2019-01-21 15:00:00+00:00</td>\n",
       "      <td>41297ea07006246e330f9767862c5b85167eb37a</td>\n",
       "      <td>d97c55174d6c011dcd2bf3d1e05629b09dba739b</td>\n",
       "      <td>a996c01a24deb369c03c19b95b587a688ab2f9b8</td>\n",
       "      <td>8462710</td>\n",
       "      <td>3716534178</td>\n",
       "      <td>6287511790</td>\n",
       "      <td>20.025</td>\n",
       "      <td>5.147</td>\n",
       "    </tr>\n",
       "    <tr>\n",
       "      <th>1</th>\n",
       "      <td>2019</td>\n",
       "      <td>1</td>\n",
       "      <td>22</td>\n",
       "      <td>15</td>\n",
       "      <td>2019-01-22 12:00:00+00:00</td>\n",
       "      <td>41297ea07006246e330f9767862c5b85167eb37a</td>\n",
       "      <td>d97c55174d6c011dcd2bf3d1e05629b09dba739b</td>\n",
       "      <td>a996c01a24deb369c03c19b95b587a688ab2f9b8</td>\n",
       "      <td>8462710</td>\n",
       "      <td>3716534178</td>\n",
       "      <td>6287511790</td>\n",
       "      <td>20.572</td>\n",
       "      <td>11.282</td>\n",
       "    </tr>\n",
       "    <tr>\n",
       "      <th>2</th>\n",
       "      <td>2019</td>\n",
       "      <td>1</td>\n",
       "      <td>8</td>\n",
       "      <td>17</td>\n",
       "      <td>2019-01-08 14:00:00+00:00</td>\n",
       "      <td>41297ea07006246e330f9767862c5b85167eb37a</td>\n",
       "      <td>d97c55174d6c011dcd2bf3d1e05629b09dba739b</td>\n",
       "      <td>a996c01a24deb369c03c19b95b587a688ab2f9b8</td>\n",
       "      <td>8462710</td>\n",
       "      <td>3716534178</td>\n",
       "      <td>6287511790</td>\n",
       "      <td>17.325</td>\n",
       "      <td>3.055</td>\n",
       "    </tr>\n",
       "    <tr>\n",
       "      <th>3</th>\n",
       "      <td>2019</td>\n",
       "      <td>1</td>\n",
       "      <td>12</td>\n",
       "      <td>21</td>\n",
       "      <td>2019-01-12 18:00:00+00:00</td>\n",
       "      <td>41297ea07006246e330f9767862c5b85167eb37a</td>\n",
       "      <td>d97c55174d6c011dcd2bf3d1e05629b09dba739b</td>\n",
       "      <td>a996c01a24deb369c03c19b95b587a688ab2f9b8</td>\n",
       "      <td>8462710</td>\n",
       "      <td>3716534178</td>\n",
       "      <td>6287511790</td>\n",
       "      <td>19.284</td>\n",
       "      <td>2.032</td>\n",
       "    </tr>\n",
       "    <tr>\n",
       "      <th>4</th>\n",
       "      <td>2019</td>\n",
       "      <td>1</td>\n",
       "      <td>14</td>\n",
       "      <td>9</td>\n",
       "      <td>2019-01-14 06:00:00+00:00</td>\n",
       "      <td>41297ea07006246e330f9767862c5b85167eb37a</td>\n",
       "      <td>d97c55174d6c011dcd2bf3d1e05629b09dba739b</td>\n",
       "      <td>a996c01a24deb369c03c19b95b587a688ab2f9b8</td>\n",
       "      <td>8462710</td>\n",
       "      <td>3716534178</td>\n",
       "      <td>6287511790</td>\n",
       "      <td>19.827</td>\n",
       "      <td>3.316</td>\n",
       "    </tr>\n",
       "  </tbody>\n",
       "</table>\n",
       "</div>"
      ],
      "text/plain": [
       "   year  month  day  hour             utc_timestamp  \\\n",
       "0  2019      1   21    18 2019-01-21 15:00:00+00:00   \n",
       "1  2019      1   22    15 2019-01-22 12:00:00+00:00   \n",
       "2  2019      1    8    17 2019-01-08 14:00:00+00:00   \n",
       "3  2019      1   12    21 2019-01-12 18:00:00+00:00   \n",
       "4  2019      1   14     9 2019-01-14 06:00:00+00:00   \n",
       "\n",
       "                                 segment_id  \\\n",
       "0  41297ea07006246e330f9767862c5b85167eb37a   \n",
       "1  41297ea07006246e330f9767862c5b85167eb37a   \n",
       "2  41297ea07006246e330f9767862c5b85167eb37a   \n",
       "3  41297ea07006246e330f9767862c5b85167eb37a   \n",
       "4  41297ea07006246e330f9767862c5b85167eb37a   \n",
       "\n",
       "                          start_junction_id  \\\n",
       "0  d97c55174d6c011dcd2bf3d1e05629b09dba739b   \n",
       "1  d97c55174d6c011dcd2bf3d1e05629b09dba739b   \n",
       "2  d97c55174d6c011dcd2bf3d1e05629b09dba739b   \n",
       "3  d97c55174d6c011dcd2bf3d1e05629b09dba739b   \n",
       "4  d97c55174d6c011dcd2bf3d1e05629b09dba739b   \n",
       "\n",
       "                            end_junction_id  osm_way_id  osm_start_node_id  \\\n",
       "0  a996c01a24deb369c03c19b95b587a688ab2f9b8     8462710         3716534178   \n",
       "1  a996c01a24deb369c03c19b95b587a688ab2f9b8     8462710         3716534178   \n",
       "2  a996c01a24deb369c03c19b95b587a688ab2f9b8     8462710         3716534178   \n",
       "3  a996c01a24deb369c03c19b95b587a688ab2f9b8     8462710         3716534178   \n",
       "4  a996c01a24deb369c03c19b95b587a688ab2f9b8     8462710         3716534178   \n",
       "\n",
       "   osm_end_node_id  speed_kph_mean  speed_kph_stddev  \n",
       "0       6287511790          20.025             5.147  \n",
       "1       6287511790          20.572            11.282  \n",
       "2       6287511790          17.325             3.055  \n",
       "3       6287511790          19.284             2.032  \n",
       "4       6287511790          19.827             3.316  "
      ]
     },
     "execution_count": 13,
     "metadata": {},
     "output_type": "execute_result"
    }
   ],
   "source": [
    "speeds = pd.read_csv('../uber_data/movement-speeds-hourly-nairobi-2019-1.csv', parse_dates=['utc_timestamp'])\n",
    "speeds.head()"
   ]
  },
  {
   "cell_type": "code",
   "execution_count": 14,
   "metadata": {},
   "outputs": [
    {
     "data": {
      "text/plain": [
       "<matplotlib.axes._subplots.AxesSubplot at 0x7f3069a2acd0>"
      ]
     },
     "execution_count": 14,
     "metadata": {},
     "output_type": "execute_result"
    },
    {
     "data": {
      "image/png": "[encoded data removed]",
      "text/plain": [
       "<Figure size 432x288 with 1 Axes>"
      ]
     },
     "metadata": {
      "needs_background": "light"
     },
     "output_type": "display_data"
    }
   ],
   "source": [
    "# Plot speeds over time for a specific OSM way\n",
    "way = speeds.loc[speeds.osm_way_id == 133901081]\n",
    "way = way.set_index('utc_timestamp')\n",
    "way.resample('1h').mean().plot(y='speed_kph_mean')"
   ]
  },
  {
   "cell_type": "code",
   "execution_count": 15,
   "metadata": {},
   "outputs": [
    {
     "data": {
      "text/plain": [
       "<matplotlib.axes._subplots.AxesSubplot at 0x7f3068f0d990>"
      ]
     },
     "execution_count": 15,
     "metadata": {},
     "output_type": "execute_result"
    },
    {
     "data": {
      "image/png": "[encoded data removed]",
      "text/plain": [
       "<Figure size 432x288 with 1 Axes>"
      ]
     },
     "metadata": {
      "needs_background": "light"
     },
     "output_type": "display_data"
    }
   ],
   "source": [
    "way.resample('1D').mean().plot(y='speed_kph_mean')"
   ]
  },
  {
   "cell_type": "markdown",
   "metadata": {},
   "source": [
    "You can use any and all data available through Uber Movement, including linking the speeds data to OSM segments, downloading quarterly statistics, using the Movement Data Toolkit etc."
   ]
  },
  {
   "cell_type": "markdown",
   "metadata": {},
   "source": [
    "You can find much more info about working with the speeds data here: https://medium.com/uber-movement/working-with-uber-movement-speeds-data-cc01d35937b3 - including how to link the segment_id with OSM data"
   ]
  },
  {
   "cell_type": "markdown",
   "metadata": {},
   "source": [
    "# What Next?\n",
    "\n",
    "There are many ways you could approach this challenge. For example, you could:\n",
    "- Create a model to predict the liklihood of an accident given a location, the features of the nearby road segments, the weather, the traffic speed and the time of day\n",
    "- Use this model to predict the probability of crashes for different times+locations over the test period, and then sample from this probability distribution to generate plausible crash locations.\n",
    "- Use an optimization technique to minimise the travel distance for the ambulances to your fake crash points. \n",
    "\n",
    "This might seem too complicated - perhaps simply picking 6 fixed locations based on the existing data will be enough? Or maybe it's worth setting separate locations during busy traffic times? \n",
    "\n",
    "Perhaps a Reinforcement Learning aproach will do well? \n",
    "\n",
    "Or maybe you can see a totally different way to solve this!\n",
    "\n",
    "Share your ideas on the discussion boards, and let's see how innovative we can be :)"
   ]
  },
  {
   "cell_type": "code",
   "execution_count": null,
   "metadata": {},
   "outputs": [],
   "source": []
  }
 ],
 "metadata": {
  "kernelspec": {
   "display_name": "Python 3",
   "language": "python",
   "name": "python3"
  },
  "language_info": {
   "codemirror_mode": {
    "name": "ipython",
    "version": 3
   },
   "file_extension": ".py",
   "mimetype": "text/x-python",
   "name": "python",
   "nbconvert_exporter": "python",
   "pygments_lexer": "ipython3",
   "version": "3.6.9"
  }
 },
 "nbformat": 4,
 "nbformat_minor": 4
}
